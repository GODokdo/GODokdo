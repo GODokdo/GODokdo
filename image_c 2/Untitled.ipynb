{
 "cells": [
  {
   "cell_type": "code",
   "execution_count": 32,
   "metadata": {},
   "outputs": [],
   "source": [
    "import os\n",
    "from PIL import Image, ImageOps\n",
    "tool_img_path = '/Users/hongkyoyeon/Desktop/image_c/BBox-Label-Tool-Multi-Class/Images/002'\n",
    "tool_label_path = '/Users/hongkyoyeon/Desktop/image_c/BBox-Label-Tool-Multi-Class/Labels/002'\n",
    "tool_class_path = '/Users/hongkyoyeon/Desktop/image_c/BBox-Label-Tool-Multi-Class/class.txt'\n",
    "yolo_img_path = '/Users/hongkyoyeon/Desktop/image_c/yolo/Images'\n",
    "output_train_path = '/Users/hongkyoyeon/Desktop/image_c/yolo/train.txt'\n",
    "if not os.path.isdir(tool_img_path):\n",
    "    os.mkdir(tool_img_path)\n",
    "\n",
    "if not os.path.isdir('/Users/hongkyoyeon/Desktop/image_c/yolo'):\n",
    "    os.mkdir('/Users/hongkyoyeon/Desktop/image_c/yolo')\n",
    "if not os.path.isdir(yolo_img_path):\n",
    "    os.mkdir(yolo_img_path)\n",
    "\n",
    "\n",
    "for file in os.listdir(tool_img_path):\n",
    "    os.remove(os.path.join(tool_img_path, file))\n",
    "\n",
    "for file in os.listdir('/Users/hongkyoyeon/Desktop/image_c/img/'):\n",
    "    #print(os.path.splitext(file)[1])\n",
    "    if file ==\".DS_Store\" :\n",
    "        \n",
    "        continue\n",
    "        \n",
    "    image = Image.open('/Users/hongkyoyeon/Desktop/image_c/img/' + file)\n",
    "    resize_image = image.resize((512,512))\n",
    "\n",
    "    resize_image.save(tool_img_path + '/' +  os.path.splitext(file)[0] + '.png')\n",
    "    image.close()\n"
   ]
  },
  {
   "cell_type": "code",
   "execution_count": 15,
   "metadata": {
    "scrolled": false
   },
   "outputs": [
    {
     "name": "stdout",
     "output_type": "stream",
     "text": [
      "사용 가능한 클래스 {'error_east_sea': 0, 'error_raising_sun': 1, 'map': 2, 'error_dokdo': 3}\n"
     ]
    },
    {
     "ename": "FileNotFoundError",
     "evalue": "[Errno 2] No such file or directory: '/Users/hongkyoyeon/Desktop/image_c/BBox-Label-Tool-Multi-Class/Labels/002/8.txt'",
     "output_type": "error",
     "traceback": [
      "\u001b[0;31m---------------------------------------------------------------------------\u001b[0m",
      "\u001b[0;31mFileNotFoundError\u001b[0m                         Traceback (most recent call last)",
      "\u001b[0;32m<ipython-input-15-2ea7472a6fcd>\u001b[0m in \u001b[0;36m<module>\u001b[0;34m\u001b[0m\n\u001b[1;32m     24\u001b[0m     \u001b[0minfo\u001b[0m \u001b[0;34m=\u001b[0m \u001b[0;34m[\u001b[0m\u001b[0;34m]\u001b[0m\u001b[0;34m\u001b[0m\u001b[0;34m\u001b[0m\u001b[0m\n\u001b[1;32m     25\u001b[0m     \u001b[0minfo\u001b[0m\u001b[0;34m.\u001b[0m\u001b[0mappend\u001b[0m\u001b[0;34m(\u001b[0m\u001b[0mos\u001b[0m\u001b[0;34m.\u001b[0m\u001b[0mpath\u001b[0m\u001b[0;34m.\u001b[0m\u001b[0msplitext\u001b[0m\u001b[0;34m(\u001b[0m\u001b[0mfile\u001b[0m\u001b[0;34m)\u001b[0m\u001b[0;34m[\u001b[0m\u001b[0;36m0\u001b[0m\u001b[0;34m]\u001b[0m \u001b[0;34m+\u001b[0m \u001b[0;34m'.png'\u001b[0m\u001b[0;34m)\u001b[0m\u001b[0;34m\u001b[0m\u001b[0;34m\u001b[0m\u001b[0m\n\u001b[0;32m---> 26\u001b[0;31m     \u001b[0;32mwith\u001b[0m \u001b[0mopen\u001b[0m\u001b[0;34m(\u001b[0m\u001b[0mos\u001b[0m\u001b[0;34m.\u001b[0m\u001b[0mpath\u001b[0m\u001b[0;34m.\u001b[0m\u001b[0mjoin\u001b[0m\u001b[0;34m(\u001b[0m\u001b[0mtool_label_path\u001b[0m\u001b[0;34m,\u001b[0m \u001b[0mos\u001b[0m\u001b[0;34m.\u001b[0m\u001b[0mpath\u001b[0m\u001b[0;34m.\u001b[0m\u001b[0msplitext\u001b[0m\u001b[0;34m(\u001b[0m\u001b[0mfile\u001b[0m\u001b[0;34m)\u001b[0m\u001b[0;34m[\u001b[0m\u001b[0;36m0\u001b[0m\u001b[0;34m]\u001b[0m \u001b[0;34m+\u001b[0m \u001b[0;34m'.txt'\u001b[0m\u001b[0;34m)\u001b[0m\u001b[0;34m)\u001b[0m \u001b[0;32mas\u001b[0m \u001b[0mf\u001b[0m\u001b[0;34m:\u001b[0m\u001b[0;34m\u001b[0m\u001b[0;34m\u001b[0m\u001b[0m\n\u001b[0m\u001b[1;32m     27\u001b[0m         \u001b[0mnext\u001b[0m\u001b[0;34m(\u001b[0m\u001b[0mf\u001b[0m\u001b[0;34m)\u001b[0m\u001b[0;34m\u001b[0m\u001b[0;34m\u001b[0m\u001b[0m\n\u001b[1;32m     28\u001b[0m         \u001b[0;32mfor\u001b[0m \u001b[0mline\u001b[0m \u001b[0;32min\u001b[0m \u001b[0mf\u001b[0m\u001b[0;34m:\u001b[0m\u001b[0;34m\u001b[0m\u001b[0;34m\u001b[0m\u001b[0m\n",
      "\u001b[0;31mFileNotFoundError\u001b[0m: [Errno 2] No such file or directory: '/Users/hongkyoyeon/Desktop/image_c/BBox-Label-Tool-Multi-Class/Labels/002/8.txt'"
     ]
    }
   ],
   "source": [
    "output = []\n",
    "class_list = {}\n",
    "with open(tool_class_path,\"r\",encoding=\"utf-8\")as f:\n",
    "    i = 0\n",
    "    for line in f:\n",
    "        class_list[line.strip()] = i\n",
    "        i += 1\n",
    "\n",
    "print(\"사용 가능한 클래스\", class_list)\n",
    "\n",
    "for file in os.listdir('/Users/hongkyoyeon/Desktop/image_c/img'):\n",
    "    original_img = '/Users/hongkyoyeon/Desktop/image_c/img/' +  file\n",
    "    image = Image.open('/Users/hongkyoyeon/Desktop/image_c/img/' + file)\n",
    "    target_x = (int(image.size[0] / 32) + 1) * 32\n",
    "    target_y = int(target_x / image.size[0] * image.size[1])\n",
    "\n",
    "    resize_image = image.resize((target_x,target_y))\n",
    "\n",
    "    target_y2 = (int(resize_image.size[1] / 32) + 1) * 32\n",
    "    resize_image = ImageOps.expand(resize_image, (0, 0, 0, target_y2 - resize_image.size[1]))\n",
    "    resize_image.save(yolo_img_path + '/' +  os.path.splitext(file)[0] + '.png')\n",
    "    image.close()\n",
    "\n",
    "    info = []\n",
    "    info.append(os.path.splitext(file)[0] + '.png')\n",
    "    with open(os.path.join(tool_label_path, os.path.splitext(file)[0] + '.txt')) as f:\n",
    "        next(f)\n",
    "        for line in f:\n",
    "            line = line.strip()\n",
    "            data = line.split(' ')\n",
    "            class_name = data[4]\n",
    "            scale = [target_x / 512, target_x / 512, target_y / 512, target_y / 512]\n",
    "            data = [int(data[i]) * scale[i] for i in range(0, 4)]\n",
    "            info.append(','.join([str(int(i)) for i in data[0:4]]) + \",\" + str(class_list[class_name]))\n",
    "    output.append(' '.join(info))\n",
    "\n",
    "\n",
    "with open(output_train_path, 'w') as f:\n",
    "    f.write('\\n'.join(output))"
   ]
  },
  {
   "cell_type": "code",
   "execution_count": null,
   "metadata": {},
   "outputs": [],
   "source": [
    "\n"
   ]
  }
 ],
 "metadata": {
  "kernelspec": {
   "display_name": "Python 3",
   "language": "python",
   "name": "python3"
  },
  "language_info": {
   "codemirror_mode": {
    "name": "ipython",
    "version": 3
   },
   "file_extension": ".py",
   "mimetype": "text/x-python",
   "name": "python",
   "nbconvert_exporter": "python",
   "pygments_lexer": "ipython3",
   "version": "3.7.1"
  }
 },
 "nbformat": 4,
 "nbformat_minor": 4
}
